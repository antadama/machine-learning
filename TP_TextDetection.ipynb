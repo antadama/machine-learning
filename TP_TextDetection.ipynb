{
  "cells": [
    {
      "cell_type": "markdown",
      "metadata": {
        "id": "view-in-github",
        "colab_type": "text"
      },
      "source": [
        "<a href=\"https://colab.research.google.com/github/antadama/machine-learning/blob/master/TP_TextDetection.ipynb\" target=\"_parent\"><img src=\"https://colab.research.google.com/assets/colab-badge.svg\" alt=\"Open In Colab\"/></a>"
      ]
    },
    {
      "cell_type": "markdown",
      "metadata": {
        "id": "QQ5vas82illV"
      },
      "source": [
        "---\n",
        "# Détection de thèses relevantes de l'IA\n",
        "\n",
        "## Collection de données \n",
        "Ce TP utilisera l'ensemble de données issues du \n",
        "[Fichier de données](https://moodle.uphf.fr/pluginfile.php/223849/mod_assign/introattachment/0/Traitement%20des%20theses.ods?forcedownload=1) déposé sur Moodle à cet effet.\n",
        "\n",
        "Dans ce document des thèses récentes sont classées; les noms des auteurs ont été retirés (ils peuvent facilement être retrouvés  mais ne sont pas utiles ici); les noms des directeurs de thèses ont été légèrement cryptés (pour éviter la diffusion de noms dans le cadre de TP).\n",
        "Quelques entrées sont manquantes (thèses non classées, absence de nom de directeur, plusieurs directeurs..)\n",
        "\n",
        "Nous allons d'abord \"nettoyer\" ces entrées, puis créer un classifieur (inspiré de la Détection de sentiments vue en TD).\n",
        "\n",
        "La quantité de données à résultat positif étant inférieure à celles à résultat négatif,nous allons en utiliser un certain nombre en données d'entraînement et d'autres en données de test.\n"
      ]
    },
    {
      "cell_type": "markdown",
      "metadata": {
        "id": "AWFXrAtkvcg_"
      },
      "source": [
        "---\n",
        "**Pré-requis:**\n",
        "A la racine de votre Drive Google, vous pouvez créer un dossier \"TP IA\" et y ajouter le fichier de données \"Traitement des theses.ods\"\n",
        "Sinon, il faudra modifier les chemins dans les lignes de codes suivant.\n",
        "\n",
        "Exécutez le code suivant,  une clé vous sera demandée. Il vous suffit de suivre le lien, de sélectionner votre profile pour obtenir votre clé que vous copierez dans le champs prévu."
      ]
    },
    {
      "cell_type": "code",
      "execution_count": 1,
      "metadata": {
        "colab": {
          "base_uri": "https://localhost:8080/"
        },
        "id": "4TodTL602bBv",
        "outputId": "3355de9d-a089-4e3c-bc77-00fc28509384"
      },
      "outputs": [
        {
          "output_type": "stream",
          "name": "stdout",
          "text": [
            "Drive already mounted at /content/drive; to attempt to forcibly remount, call drive.mount(\"/content/drive\", force_remount=True).\n"
          ]
        }
      ],
      "source": [
        "#bloc à exécuter si vous utilisez colab\n",
        "from google.colab import drive, files\n",
        "\n",
        "drive.mount('/content/drive')"
      ]
    },
    {
      "cell_type": "markdown",
      "metadata": {
        "id": "3IlL2ANmisdv"
      },
      "source": [
        "---\n",
        "## Préparation des données\n"
      ]
    },
    {
      "cell_type": "markdown",
      "metadata": {
        "id": "oiHdx0y1i8Bi"
      },
      "source": [
        "### Chargement et nettoyage des données\n",
        "\n",
        "Il convient pour chaque fichier texte de \n",
        "  - identifier les termes (**tokens**) entre espaces,\n",
        "  - supprimer toute ponctuation,\n",
        "  - supprimer tous les mots qui ne sont pas uniquement composés de caractères alphabétiques,\n",
        "  - supprimer tous les mots reconnus en tant que mots vides (stop words) (mots de liaison)\n",
        "  - supprimer tous les mots dont la longueur est <= 1 caractère."
      ]
    },
    {
      "cell_type": "markdown",
      "metadata": {
        "id": "SLWxuYAjxPlo"
      },
      "source": [
        "### Les bibliothèques\n",
        "La préparation des données implique de pouvoir accéder au système de fichier, ainsi qu'à la bibliothèque nltk et aux bibliothèques spécialisées dans le traitement de texte.. : "
      ]
    },
    {
      "cell_type": "code",
      "execution_count": 2,
      "metadata": {
        "colab": {
          "base_uri": "https://localhost:8080/"
        },
        "id": "tSqBXmHvxnhF",
        "outputId": "28bb08d7-4412-4d19-8d3b-9727363ee5dd"
      },
      "outputs": [
        {
          "output_type": "stream",
          "name": "stdout",
          "text": [
            "Looking in indexes: https://pypi.org/simple, https://us-python.pkg.dev/colab-wheels/public/simple/\n",
            "Requirement already satisfied: odfpy in /usr/local/lib/python3.7/dist-packages (1.4.1)\n",
            "Requirement already satisfied: defusedxml in /usr/local/lib/python3.7/dist-packages (from odfpy) (0.7.1)\n"
          ]
        }
      ],
      "source": [
        "##import pour les fichiers et le traitement de données : \n",
        "from os import listdir\n",
        "\n",
        "##import pour la creation de tokens\n",
        "import nltk\n",
        "from nltk.corpus import stopwords\n",
        "\n",
        "##import pour la gestion de ponctuation\n",
        "from string import punctuation\n",
        "\n",
        "##import pour une collection spécifique : counter\n",
        "from collections import Counter\n",
        "\n",
        "##import pour les réseaux de neurones : \n",
        "import tensorflow.keras as keras\n",
        "from tensorflow.keras.models import Sequential\n",
        "from tensorflow.keras.layers import Dense\n",
        "from tensorflow.keras import preprocessing\n",
        "\n",
        "##import classique pour les tableaux efficaces\n",
        "from numpy import array, zeros\n",
        "\n",
        "##import pour la lecture de fichier excel\n",
        "import pandas as pd\n",
        "!pip install odfpy"
      ]
    },
    {
      "cell_type": "code",
      "execution_count": 3,
      "metadata": {
        "colab": {
          "base_uri": "https://localhost:8080/"
        },
        "id": "n6qZZ-VJw8Wy",
        "outputId": "fbc8b0f2-7c42-4cad-f424-c70a75c4d508"
      },
      "outputs": [
        {
          "output_type": "stream",
          "name": "stdout",
          "text": [
            "[nltk_data] Downloading package stopwords to /root/nltk_data...\n",
            "[nltk_data]   Package stopwords is already up-to-date!\n"
          ]
        },
        {
          "output_type": "execute_result",
          "data": {
            "text/plain": [
              "True"
            ]
          },
          "metadata": {},
          "execution_count": 3
        }
      ],
      "source": [
        "# le code suivant charge l'ensemble des mots non importants\n",
        "nltk.download(\"stopwords\")\n"
      ]
    },
    {
      "cell_type": "markdown",
      "metadata": {
        "id": "FKTs2m3jRc3o"
      },
      "source": [
        "### Fonctions de lectures et d'\"épurage\" de fichier texte"
      ]
    },
    {
      "cell_type": "markdown",
      "source": [
        "Pour le traitement des entrées, j'ai enlevé la ponctuation, les stopwords connus en français et anglais, les mots de moins de 2 lettres. Chaque mot est changé en minuscule, les nombres et autres caractères numériques sont également retirés.\n",
        "Je ne considère que les mots du titre, donc les auteurs, date de parution etc ne sont pas consultés.\n",
        "\n",
        "Les champs retenus du fichier excel sont la colonne \"IA ?\" et la colonne Titre."
      ],
      "metadata": {
        "id": "S7n72xaqVDaF"
      }
    },
    {
      "cell_type": "code",
      "execution_count": 4,
      "metadata": {
        "id": "by0--ITCi-xa"
      },
      "outputs": [],
      "source": [
        "def read_excel_file(filename):\n",
        "    \"\"\"Lit le fichier filename puis retourne une dataframe avec les titres et la colonne 'IA ?' qui y sont inscrites \"\"\"\n",
        "    \n",
        "    # Load file in dataframe\n",
        "    df = pd.concat(pd.read_excel(filename, sheet_name=None, engine=\"odf\"), ignore_index=True)\n",
        "    # keep the needed columns\n",
        "    df = df[['IA ?', 'Titre']]\n",
        "    return df\n",
        "\n",
        " \n",
        "def save_examples(titles_df):\n",
        "    \"\"\"Crée les fichiers pour l'apprentissage (avec les titres)\"\"\"\n",
        "    pos_titles = titles_df[titles_df['IA ?']==\"Oui\"]\n",
        "    neg_titles = titles_df[titles_df['IA ?']==\"Non\"]\n",
        "\n",
        "    neg_titles[[\"Titre\"]].to_csv(r'/content/drive/My Drive/TP IA/negatives.txt', header=None, index=None, sep='\\n', mode='a')\n",
        "    pos_titles[[\"Titre\"]].to_csv(r'/content/drive/My Drive/TP IA/positives.txt', header=None, index=None, sep='\\n', mode='a')\n",
        "    print(\"Examples saved.\")\n",
        "\n",
        "\n",
        "def load_doc(filename)->str:\n",
        "    \"\"\"retourne le texte inclus dans le fichier filename\"\"\"\n",
        "    # open the file as read only\n",
        "    file = open(filename, 'r')\n",
        "    # read all text\n",
        "    text = file.read()\n",
        "    # close the file\n",
        "    file.close()\n",
        "    return text\n",
        "    \n",
        "def clean_doc(doc)->list:\n",
        "    \"\"\"retourne la liste de mots clés inclus dans le texte doc \n",
        "    qui ne font pas parti des stop_words\"\"\"\n",
        "    # split into tokens by white space\n",
        "    tokens = doc.split()\n",
        "    # remove punctuation from each token\n",
        "    table = str.maketrans('', '', punctuation)\n",
        "    tokens = [w.translate(table) for w in tokens]\n",
        "    # remove remaining tokens that are not alphabetic\n",
        "    tokens = [word for word in tokens if word.isalpha()]\n",
        "    # filter out stop words\n",
        "    stop_words_english = set(stopwords.words('english'))\n",
        "    stop_words_french = set(stopwords.words('french'))\n",
        "    tokens = [w for w in tokens if not w in stop_words_french]\n",
        "    tokens = [w for w in tokens if not w in stop_words_english]\n",
        "    #Turn all words to lowercase\n",
        "    tokens = [w.lower() for w in tokens]\n",
        "    # filter out short tokens\n",
        "    tokens = [word for word in tokens if len(word) > 2]\n",
        "\n",
        "    return tokens"
      ]
    },
    {
      "cell_type": "markdown",
      "metadata": {
        "id": "UgALvdrLKOD3"
      },
      "source": [
        "### Tests de la récupération de mots clés d'un fichier"
      ]
    },
    {
      "cell_type": "code",
      "execution_count": 5,
      "metadata": {
        "colab": {
          "base_uri": "https://localhost:8080/"
        },
        "id": "0CpapoCR0Hzs",
        "outputId": "9c9d2265-1051-4b13-b0e4-d1e30a6b75ae"
      },
      "outputs": [
        {
          "output_type": "stream",
          "name": "stdout",
          "text": [
            "Examples saved.\n",
            "les 10 premiers mots cles de  /content/drive/My Drive/TP IA/negatives.txt\n",
            "['preventing', 'release', 'illegitimate', 'applications', 'mobile', 'markets', 'contextaware', 'recommender', 'system', 'system']\n",
            "les 10 premiers mots cles de  /content/drive/My Drive/TP IA/positives.txt\n",
            "['methodes', 'outils', 'programmation', 'systemes', 'cyberphysiques', 'fouille', 'donnees', 'spatiotemporelles', 'resumes', 'donnees']\n"
          ]
        }
      ],
      "source": [
        "rep = '/content/drive/My Drive/TP IA'\n",
        "\n",
        "df = read_excel_file(rep + \"/Traitement des theses.ods\")\n",
        "save_examples(df)\n",
        "\n",
        "# mots clés du fichier négatif\n",
        "filename = rep + '/negatives.txt'\n",
        "text = load_doc(filename)\n",
        "tokens = clean_doc(text)\n",
        "print('les 10 premiers mots cles de ', filename)\n",
        "print(tokens[:10])\n",
        "\n",
        "# mots clés du fichier positif\n",
        "filename = rep + '/positives.txt'\n",
        "text = load_doc(filename)\n",
        "tokens = clean_doc(text)\n",
        "print('les 10 premiers mots cles de ', filename)\n",
        "print(tokens[:10])\n"
      ]
    },
    {
      "cell_type": "markdown",
      "metadata": {
        "id": "1yo75YEIjWIT"
      },
      "source": [
        "### Construire le vocabulaire global\n",
        "\n",
        "Il ya environ +5000 données avec un résultat positif et +15000 avec resultat négatif.\n",
        "Le nombres de titres négatifs ou positifs appris et testés est le même; ces nombres doivent donc être définis en avance."
      ]
    },
    {
      "cell_type": "code",
      "source": [
        "#Variable globales (nb_learn + nb_test <=5000)\n",
        "\n",
        "#Nombre de titres pour l'apprentissage\n",
        "nb_learn = 1000\n",
        "\n",
        "#Nombres de titres pour les tests\n",
        "nb_test = 1000"
      ],
      "metadata": {
        "id": "iYeIFXbpR62h"
      },
      "execution_count": 6,
      "outputs": []
    },
    {
      "cell_type": "code",
      "execution_count": 7,
      "metadata": {
        "colab": {
          "base_uri": "https://localhost:8080/"
        },
        "id": "Axlsvtg8jhAr",
        "outputId": "bfcf83c0-c3f3-4f58-815c-019547c19642"
      },
      "outputs": [
        {
          "output_type": "stream",
          "name": "stdout",
          "text": [
            "nb de mots cles trouves dans les repertoires :  3917\n",
            "les 10 premiers mots cles du vocabulaire (et leur nb d'apparition dans les exemples)  : \n",
            "methodes : 59, outils : 18, programmation : 23, systemes : 136, cyberphysiques : 9, fouille : 19, donnees : 115, spatiotemporelles : 9, resumes : 6, apprentissage : 100, automatique : 64, \n",
            "les 10 mots cles les plus utilises :  [('application', 139), ('systemes', 136), ('reseaux', 117), ('donnees', 115), ('detection', 109), ('apprentissage', 100), ('learning', 100), ('dun', 89), ('applications', 83), ('modeles', 78)]\n"
          ]
        }
      ],
      "source": [
        "def add_doc_to_vocab(doc, vocab):\n",
        "    \"\"\"cumule dans la liste vocab les mots du texte doc \"\"\"\n",
        "    # clean doc\n",
        "    tokens = clean_doc(doc)\n",
        "    # update counts\n",
        "    vocab.update(tokens)\n",
        "\n",
        "def build_voc(filename, vocab, nb_learn):\n",
        "    \"\"\"ajoute au dictionnaire vocab les mots cles des nb_learn premières lignes \n",
        "  du fichier filename\"\"\"\n",
        "  \n",
        "    with open(filename, 'r') as fp:\n",
        "      lines =fp.readlines()\n",
        "    var = \"\\n\".join(lines[:nb_learn])\n",
        "    # add doc to vocab\n",
        "    add_doc_to_vocab(var, vocab)\n",
        "\n",
        "    \n",
        "# creer un vocabulaire (liste de mots clés associés à leurs occurences)\n",
        "vocab = Counter()\n",
        "# ajouter les mots cles des repertoire pos et neg\n",
        "build_voc(rep + \"/positives.txt\", vocab, nb_learn)\n",
        "build_voc(rep + \"/negatives.txt\", vocab, nb_learn)\n",
        "\n",
        "\n",
        "# afficher le nb de mots cles trouves\n",
        "print(\"nb de mots cles trouves dans les repertoires : \", len(vocab))\n",
        "print(\"les 10 premiers mots cles du vocabulaire \\\n",
        "(et leur nb d\\'apparition dans les exemples)  : \\n\", end='')\n",
        "i=0\n",
        "for (mot,count) in vocab.items(): \n",
        "    print(mot,':',count,end=\", \")\n",
        "    i = i+1\n",
        "    if i>10:break\n",
        "# afficher les 10 mots cles les plus utilises\n",
        "print(\"\\nles 10 mots cles les plus utilises : \", vocab.most_common(10))\n"
      ]
    },
    {
      "cell_type": "code",
      "execution_count": 8,
      "metadata": {
        "colab": {
          "base_uri": "https://localhost:8080/"
        },
        "id": "EDFdsl97jq0t",
        "outputId": "ccfa01ed-c971-486a-bc64-9108bc6f1281"
      },
      "outputs": [
        {
          "output_type": "stream",
          "name": "stdout",
          "text": [
            "en otant les mots utilise moins de  3  fois, nb de mots cles =  1314\n"
          ]
        }
      ],
      "source": [
        "# ne garder que les mots clés apparaissant au moins 3 fois\n",
        "min_occurrence = 3\n",
        "tokens = [token for (token,count) in vocab.items() if count >= min_occurrence]\n",
        "print('en otant les mots utilise moins de ', min_occurrence, ' fois, nb de mots cles = ',len(tokens))"
      ]
    },
    {
      "cell_type": "code",
      "execution_count": 9,
      "metadata": {
        "id": "ApMJ_0gHjuEv"
      },
      "outputs": [],
      "source": [
        "def save_list(lines, filename):\n",
        "    \"\"\"save les mots de la liste lines dans le fichier filename\"\"\"\n",
        "    # convert lines to a single blob of text\n",
        "    data = '\\n'.join(lines)\n",
        "    # open file\n",
        "    file = open(filename, 'w')\n",
        "    # write text\n",
        "    file.write(data)\n",
        "    # close file\n",
        "    file.close()\n",
        "\n",
        "# save tokens to a vocabulary file\n",
        "save_list(tokens, rep + '/vocab.txt')"
      ]
    },
    {
      "cell_type": "markdown",
      "metadata": {
        "id": "v2oK8x7bj5CU"
      },
      "source": [
        "---\n",
        "## Représentation en sac de mots"
      ]
    },
    {
      "cell_type": "markdown",
      "metadata": {
        "id": "wdd9RpBskGUy"
      },
      "source": [
        "### Convertir les fichiers en listes de mots-clés appartenant au vocabulaire \n"
      ]
    },
    {
      "cell_type": "code",
      "execution_count": 10,
      "metadata": {
        "id": "7Sw6xGMHkUP1"
      },
      "outputs": [],
      "source": [
        "def doc_to_line(doc, vocab)->list:\n",
        "    \"\"\"retourne les mots cles du texte doc appartenant au vocabulaire vocab\"\"\"\n",
        "    tokens = clean_doc(doc)\n",
        "    # filter by vocab\n",
        "    tokens = [token for token in tokens if token in vocab]\n",
        "    return ' '.join(tokens)"
      ]
    },
    {
      "cell_type": "code",
      "source": [
        "doc_to_line('Methodes et hahaha outils pour la programmation des systemes cyber-physiques.\\n', vocab)"
      ],
      "metadata": {
        "colab": {
          "base_uri": "https://localhost:8080/",
          "height": 35
        },
        "id": "qoYuaPWSfs9N",
        "outputId": "93fc2934-64f2-4ab0-c141-c6b09b566ab4"
      },
      "execution_count": 11,
      "outputs": [
        {
          "output_type": "execute_result",
          "data": {
            "text/plain": [
              "'methodes outils programmation systemes cyberphysiques'"
            ],
            "application/vnd.google.colaboratory.intrinsic+json": {
              "type": "string"
            }
          },
          "metadata": {},
          "execution_count": 11
        }
      ]
    },
    {
      "cell_type": "code",
      "execution_count": 12,
      "metadata": {
        "id": "8bE7XaHdka1O"
      },
      "outputs": [],
      "source": [
        "def process_docs(filename, vocab, nb_learn, nb_test)->list:\n",
        "    \"\"\"retourne deux listes des mots cles du repertoire directory; \n",
        "    la 1ere liste represente les nb_learn premières lignes des thèses du repertoire, \n",
        "    la 2nde represente les nb_test dernières \"\"\"\n",
        "    lines_firsts = list()\n",
        "    lines_lasts = list()\n",
        "    \n",
        "    # load the file and clean the lines\n",
        "    with open(filename, 'r') as fp:\n",
        "      lines =fp.readlines()\n",
        "    \n",
        "    for l in lines[:nb_learn]:\n",
        "      line = doc_to_line(l, vocab)\n",
        "      lines_firsts.append(line)\n",
        "\n",
        "    for l_2 in lines[-nb_test:]:\n",
        "      line = doc_to_line(l_2, vocab)\n",
        "      lines_lasts.append(line)\n",
        "\n",
        "    return (lines_firsts,lines_lasts)\n"
      ]
    },
    {
      "cell_type": "code",
      "execution_count": 13,
      "metadata": {
        "colab": {
          "base_uri": "https://localhost:8080/"
        },
        "id": "o0ixOikAkfyN",
        "outputId": "fecb44b8-0240-498b-e157-b12c2bbe5aad"
      },
      "outputs": [
        {
          "output_type": "stream",
          "name": "stdout",
          "text": [
            "nb exemples d'entrainement positifs :  1000\n",
            "nb exemples d'entrainement negatifs :  1000\n",
            "nb exemples de tests positifs :  1000\n",
            "nb exemples de tests negatifs :  1000\n"
          ]
        }
      ],
      "source": [
        "# load the vocabulary\n",
        "vocab_filename = rep + '/vocab.txt'\n",
        "vocab = load_doc(vocab_filename)\n",
        "vocab = vocab.split()\n",
        "vocab = set(vocab)\n",
        "# load training and testing reviews\n",
        "(positive_lines_train, positive_lines_test) = process_docs(rep+'/positives.txt', vocab, nb_learn, nb_test)\n",
        "(negative_lines_train, negative_lines_test) = process_docs(rep+'/negatives.txt', vocab, nb_learn, nb_test)\n",
        "\n",
        "# summarize what we have\n",
        "print(\"nb exemples d'entrainement positifs : \", len(positive_lines_train))\n",
        "print(\"nb exemples d'entrainement negatifs : \", len(negative_lines_train))\n",
        "print(\"nb exemples de tests positifs : \", len(positive_lines_test))\n",
        "print(\"nb exemples de tests negatifs : \", len(negative_lines_test))"
      ]
    },
    {
      "cell_type": "markdown",
      "metadata": {
        "id": "ZTJ5fim2k1fk"
      },
      "source": [
        "\n",
        "### Convertir les listes de mots en vecteur fréquence d'apparition \n",
        "#### Créer le sac de mot de l'ensemble d'entrainement"
      ]
    },
    {
      "cell_type": "code",
      "execution_count": 14,
      "metadata": {
        "id": "zVxIx3dtk9HF"
      },
      "outputs": [],
      "source": [
        "# create the tokenizer\n",
        "tokenizer = keras.preprocessing.text.Tokenizer()\n",
        "# build the training doc by adding first positive lines and then negative lines\n",
        "training_doc = [None]*(len(positive_lines_train)+len(negative_lines_train))\n",
        "#place the positive lines first\n",
        "training_doc[:len(positive_lines_train)] = positive_lines_train\n",
        "#place the negative lines until the end\n",
        "training_doc[len(negative_lines_train):] = negative_lines_train\n",
        "# ask to the tokenizer to build the bag of words : a set of (word, frequence of use)*\n",
        "tokenizer.fit_on_texts(training_doc)\n",
        "xTrain = tokenizer.texts_to_matrix(training_doc, mode='binary')"
      ]
    },
    {
      "cell_type": "code",
      "execution_count": 15,
      "metadata": {
        "colab": {
          "base_uri": "https://localhost:8080/"
        },
        "id": "SGd85sb5k_Xs",
        "outputId": "80b8fbb8-ecc3-437d-d52d-b642ffa63e66"
      },
      "outputs": [
        {
          "output_type": "stream",
          "name": "stdout",
          "text": [
            "Xtrain contient  2000  exemples de  1315  valeurs\n",
            "une valeur = fréquence d'apparition des mots dans le vocabulaire global.\n",
            "Ainsi, premier exemple d'entrainement = \n",
            " [0. 0. 0. ... 0. 0. 0.]\n"
          ]
        }
      ],
      "source": [
        "print('Xtrain contient ', xTrain.shape[0], ' exemples de ', xTrain.shape[1], ' valeurs')\n",
        "print('une valeur = fréquence d\\'apparition des mots dans le vocabulaire global.')\n",
        "print('Ainsi, premier exemple d\\'entrainement = \\n', xTrain[150])"
      ]
    },
    {
      "cell_type": "markdown",
      "metadata": {
        "id": "YYYVykeGRc3t"
      },
      "source": [
        "On décide que les exemples positifs correspondent à une sortie 0 et que les exemples négatifs correspondent à la sortie 1 :"
      ]
    },
    {
      "cell_type": "code",
      "execution_count": 16,
      "metadata": {
        "id": "rvZ0ZbJPRc3t"
      },
      "outputs": [],
      "source": [
        "#ytrain = suite de (0 (classement pour eval positive) puis 1 (classements pour éval négative))\n",
        "yTrain = zeros(len(positive_lines_train)+len(negative_lines_train), int)\n",
        "yTrain[len(negative_lines_train):] = 1"
      ]
    },
    {
      "cell_type": "markdown",
      "metadata": {
        "id": "SjLk2VPqRc3t"
      },
      "source": [
        "#### Créer le sac de mot de l'ensemble de validation"
      ]
    },
    {
      "cell_type": "code",
      "execution_count": 17,
      "metadata": {
        "colab": {
          "base_uri": "https://localhost:8080/"
        },
        "id": "twHl-RSElEB_",
        "outputId": "ca3191ec-2093-418e-e5fe-6a60336d002c"
      },
      "outputs": [
        {
          "output_type": "stream",
          "name": "stdout",
          "text": [
            "Xtest contient  2000  exemples de  1315  valeurs.\n"
          ]
        }
      ],
      "source": [
        "# build the test doc by alternating positive lines and negative lines\n",
        "test_Doc = [None]*(len(positive_lines_test)+len(negative_lines_test))\n",
        "\n",
        "#place a positive line at even positions (0,2,....)\n",
        "test_Doc[::2] = positive_lines_test\n",
        "#place a negative line at odd positions (1,3,....)\n",
        "test_Doc[1::2] = negative_lines_test\n",
        "# ask to the tokenizer to give the bag of words : a set of (word, frequence of use),\n",
        "# the words are already kown by the tokenizer*\n",
        "xTest = tokenizer.texts_to_matrix(test_Doc, mode='binary')\n",
        "print('Xtest contient ', xTest.shape[0], ' exemples de ', xTest.shape[1], ' valeurs.')"
      ]
    },
    {
      "cell_type": "code",
      "execution_count": 18,
      "metadata": {
        "id": "JAuuJyOHRc3u"
      },
      "outputs": [],
      "source": [
        "#sortie attendues des exemples de test, ytest = suite de (0, 1)\n",
        "yTest = array([0,1]*(len(positive_lines_test)))"
      ]
    },
    {
      "cell_type": "markdown",
      "metadata": {
        "id": "mCJRY1mTlnls"
      },
      "source": [
        "---\n",
        "## Modèle de réseau pour l'analyse des sentiments\n",
        "Le réseau contient en couche d'entrée aurant de neurones que de valeurs retenues\n",
        "\n",
        "Plusieurs tests ont été fait: \n",
        "- Avec 4 couches\n",
        "- Avec l'optimiseur sgd puis adam\n",
        "- Fonctions d'activation: elu pour la couche d'entrée, relu pour celles intermédiaires, sigmoid pour la couche de sortie\n",
        "- Avec 20 et 100 epochs \n",
        "\n",
        "Le model sera sauvegardé dans le dossier \"TP IA\" sur le drive (il est également disponible avec le rendu de ce TP)\n"
      ]
    },
    {
      "cell_type": "code",
      "execution_count": 19,
      "metadata": {
        "id": "uruPxsQil-gZ"
      },
      "outputs": [],
      "source": [
        "# Donner le nb de neurones en entrée (= nb de tokens retenus)\n",
        "n_words = xTrain.shape[1] "
      ]
    },
    {
      "cell_type": "code",
      "execution_count": 20,
      "metadata": {
        "id": "67M4JqX2lNeu"
      },
      "outputs": [],
      "source": [
        "# Définir la structure du réseau\n",
        "model = Sequential()\n",
        "model.add(Dense(300, input_shape=(n_words,), activation='elu'))\n",
        "model.add(Dense(100, activation='relu'))\n",
        "model.add(Dense(10, activation='relu'))\n",
        "model.add(Dense(1, activation='sigmoid'))\n",
        "# compile network \n",
        "model.compile(loss='hinge', optimizer='adam',  metrics=['accuracy'])\n"
      ]
    },
    {
      "cell_type": "code",
      "execution_count": 21,
      "metadata": {
        "colab": {
          "base_uri": "https://localhost:8080/"
        },
        "id": "rlYk8aKemF9b",
        "outputId": "f1999f9b-67c2-49be-8201-8e1a080b2371"
      },
      "outputs": [
        {
          "output_type": "stream",
          "name": "stdout",
          "text": [
            "Epoch 1/20\n",
            "63/63 [==============================] - 2s 22ms/step - loss: 0.9046 - accuracy: 0.6965 - val_loss: 0.7236 - val_accuracy: 0.8165\n",
            "Epoch 2/20\n",
            "63/63 [==============================] - 1s 15ms/step - loss: 0.6429 - accuracy: 0.8755 - val_loss: 0.6302 - val_accuracy: 0.8770\n",
            "Epoch 3/20\n",
            "63/63 [==============================] - 1s 15ms/step - loss: 0.5848 - accuracy: 0.9210 - val_loss: 0.6013 - val_accuracy: 0.9035\n",
            "Epoch 4/20\n",
            "63/63 [==============================] - 1s 13ms/step - loss: 0.5637 - accuracy: 0.9390 - val_loss: 0.5917 - val_accuracy: 0.9130\n",
            "Epoch 5/20\n",
            "63/63 [==============================] - 1s 15ms/step - loss: 0.5582 - accuracy: 0.9455 - val_loss: 0.5958 - val_accuracy: 0.9065\n",
            "Epoch 6/20\n",
            "63/63 [==============================] - 1s 13ms/step - loss: 0.5535 - accuracy: 0.9485 - val_loss: 0.5884 - val_accuracy: 0.9125\n",
            "Epoch 7/20\n",
            "63/63 [==============================] - 1s 14ms/step - loss: 0.5506 - accuracy: 0.9500 - val_loss: 0.5817 - val_accuracy: 0.9200\n",
            "Epoch 8/20\n",
            "63/63 [==============================] - 1s 19ms/step - loss: 0.5475 - accuracy: 0.9530 - val_loss: 0.5813 - val_accuracy: 0.9205\n",
            "Epoch 9/20\n",
            "63/63 [==============================] - 1s 14ms/step - loss: 0.5442 - accuracy: 0.9565 - val_loss: 0.5790 - val_accuracy: 0.9235\n",
            "Epoch 10/20\n",
            "63/63 [==============================] - 1s 14ms/step - loss: 0.5444 - accuracy: 0.9565 - val_loss: 0.5781 - val_accuracy: 0.9250\n",
            "Epoch 11/20\n",
            "63/63 [==============================] - 1s 13ms/step - loss: 0.5464 - accuracy: 0.9560 - val_loss: 0.5829 - val_accuracy: 0.9200\n",
            "Epoch 12/20\n",
            "63/63 [==============================] - 1s 15ms/step - loss: 0.5544 - accuracy: 0.9465 - val_loss: 0.5943 - val_accuracy: 0.9060\n",
            "Epoch 13/20\n",
            "63/63 [==============================] - 1s 16ms/step - loss: 0.5536 - accuracy: 0.9485 - val_loss: 0.5905 - val_accuracy: 0.9110\n",
            "Epoch 14/20\n",
            "63/63 [==============================] - 1s 14ms/step - loss: 0.5549 - accuracy: 0.9465 - val_loss: 0.5918 - val_accuracy: 0.9075\n",
            "Epoch 15/20\n",
            "63/63 [==============================] - 1s 14ms/step - loss: 0.5525 - accuracy: 0.9475 - val_loss: 0.5865 - val_accuracy: 0.9130\n",
            "Epoch 16/20\n",
            "63/63 [==============================] - 1s 13ms/step - loss: 0.5477 - accuracy: 0.9530 - val_loss: 0.5845 - val_accuracy: 0.9145\n",
            "Epoch 17/20\n",
            "63/63 [==============================] - 1s 15ms/step - loss: 0.5479 - accuracy: 0.9525 - val_loss: 0.5819 - val_accuracy: 0.9175\n",
            "Epoch 18/20\n",
            "63/63 [==============================] - 1s 16ms/step - loss: 0.5483 - accuracy: 0.9520 - val_loss: 0.5821 - val_accuracy: 0.9190\n",
            "Epoch 19/20\n",
            "63/63 [==============================] - 1s 14ms/step - loss: 0.5471 - accuracy: 0.9530 - val_loss: 0.5814 - val_accuracy: 0.9195\n",
            "Epoch 20/20\n",
            "63/63 [==============================] - 1s 14ms/step - loss: 0.5460 - accuracy: 0.9540 - val_loss: 0.5797 - val_accuracy: 0.9205\n",
            "INFO:tensorflow:Assets written to: /content/drive/My Drive/TP IA/model_save/assets\n"
          ]
        }
      ],
      "source": [
        "#Tester differents nb de tests (epochs)\n",
        "history = model.fit(xTrain, yTrain, \n",
        "                    validation_data=(xTest, yTest),\n",
        "                    epochs=20, verbose=1)\n",
        "\n",
        "#Sauvegarder le model\n",
        "model.save(rep+\"/model_save/\")"
      ]
    },
    {
      "cell_type": "markdown",
      "metadata": {
        "id": "sSmW4Vz7Rc3v"
      },
      "source": [
        "### Dessiner l'évolution de l'erreur et de la pertinence"
      ]
    },
    {
      "cell_type": "markdown",
      "source": [
        "#### Résultats \n",
        "\n",
        "1) Pour 3000 exemples d'entrainement et 500 exemples pour tester, à 100 epochs et l'optimiseur adam, nous obtenons 98 % de précision.\n",
        "\n",
        "2) A 20 epochs, il faut diminuer le nombres d'exemples respectivement à 1000 (chacun) pour obtenir 91 % de précision.\n",
        "\n",
        "Les images suivantes sont les résultats avec le modèle (1):\n",
        "\n",
        "\n",
        "![image.png](data:image/png;base64,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)\n",
        "\n",
        "![image.png](data:image/png;base64,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)"
      ],
      "metadata": {
        "id": "RCroMfzxwPKF"
      }
    },
    {
      "cell_type": "code",
      "execution_count": 22,
      "metadata": {
        "id": "-V0HJ9DtRc3v"
      },
      "outputs": [],
      "source": [
        "history_dict = history.history"
      ]
    },
    {
      "cell_type": "markdown",
      "metadata": {
        "id": "QEuzrax9Rc3v"
      },
      "source": [
        "#### Tracer l'erreur d'entrainement / l'erreur de validation\n",
        "- L'erreur d'entrainement et l'erreur de validation doivent suivre des courbes quasi parallèle.\n",
        "- L'erreur d'entrainement doit être plus faible que l'erreur de validation\n",
        "    - si les courbes divergent, si la courbe de validation s'éloigne de la courbe d'entrainement, il y a alors un sur-apprentissage (overfitting) trop adapté aux données d'entrainement, sans doute trop poussé (diminuer les epochs?).\n",
        "    - s'il y a une erreur d'entrainement trop grande, il y a sous-apprentissage"
      ]
    },
    {
      "cell_type": "code",
      "execution_count": 23,
      "metadata": {
        "colab": {
          "base_uri": "https://localhost:8080/",
          "height": 295
        },
        "id": "_TuDk3pHRc3v",
        "outputId": "4d553753-5f32-48ef-d102-1f5b07236922"
      },
      "outputs": [
        {
          "output_type": "display_data",
          "data": {
            "text/plain": [
              "<Figure size 432x288 with 1 Axes>"
            ],
            "image/png": "[encoded data removed]"
          },
          "metadata": {
            "needs_background": "light"
          }
        }
      ],
      "source": [
        "import matplotlib.pyplot as plt\n",
        "\n",
        "loss = history_dict['loss']\n",
        "val_loss = history_dict['val_loss']\n",
        "\n",
        "epochs = range(1, len(loss) + 1)\n",
        "\n",
        "# draw the loss evolution in blue\n",
        "plt.plot(epochs, loss, 'b-*', label='erreur sur exemples d\\'apprentissage')\n",
        "# draw the accuracy evolution in blue\n",
        "plt.plot(epochs, val_loss, 'r-*', label='erreur sur exemples de validation')\n",
        "plt.title('Erreur')\n",
        "plt.xlabel('Epochs')\n",
        "plt.ylabel('Erreur')\n",
        "plt.legend()\n",
        "\n",
        "plt.show()"
      ]
    },
    {
      "cell_type": "code",
      "execution_count": 24,
      "metadata": {
        "colab": {
          "base_uri": "https://localhost:8080/",
          "height": 295
        },
        "id": "cIVN3GkpRc3v",
        "outputId": "10a16d2e-14a4-4ee0-ffdf-09246f4f46ab"
      },
      "outputs": [
        {
          "output_type": "display_data",
          "data": {
            "text/plain": [
              "<Figure size 432x288 with 1 Axes>"
            ],
            "image/png": "[encoded data removed]"
          },
          "metadata": {
            "needs_background": "light"
          }
        }
      ],
      "source": [
        "acc = history_dict['accuracy']\n",
        "val_acc = history_dict['val_accuracy']\n",
        "\n",
        "epochs = range(1, len(loss) + 1)\n",
        "\n",
        "# draw the loss evolution in blue\n",
        "plt.plot(epochs, acc, 'b-*', label='précision sur exemples d\\'apprentissage')\n",
        "# draw the accuracy evolution in blue\n",
        "plt.plot(epochs, val_acc, 'r-*', label='précision sur exemples de validation')\n",
        "plt.title('précision')\n",
        "plt.xlabel('Epochs')\n",
        "plt.ylabel('précision')\n",
        "plt.legend()\n",
        "\n",
        "plt.show()"
      ]
    },
    {
      "cell_type": "markdown",
      "metadata": {
        "id": "qKBCcjDHRc3w"
      },
      "source": [
        "### Evaluer le modèle sur l'exemple d'entrainement"
      ]
    },
    {
      "cell_type": "code",
      "execution_count": 25,
      "metadata": {
        "colab": {
          "base_uri": "https://localhost:8080/"
        },
        "id": "KVnJJYscmH4v",
        "outputId": "7cccdfa8-63af-4467-a62e-8fdb19e42ef0"
      },
      "outputs": [
        {
          "output_type": "stream",
          "name": "stdout",
          "text": [
            "Précision sur exemples de test: 92.049998\n"
          ]
        }
      ],
      "source": [
        "# evaluate\n",
        "loss, acc = model.evaluate(xTest, yTest, verbose=0)\n",
        "print('Précision sur exemples de test: %f' % (acc*100))"
      ]
    },
    {
      "cell_type": "code",
      "source": [
        ""
      ],
      "metadata": {
        "id": "dx18_0Gj4Sw_"
      },
      "execution_count": 25,
      "outputs": []
    },
    {
      "cell_type": "markdown",
      "metadata": {
        "id": "ObKC8oW7mROA"
      },
      "source": [
        "---\n",
        "## Estimation de nouvelles valeurs\n",
        "Il ne reste plus qu'à utiliser le réseau pour faciliter la classification de futures thèses "
      ]
    },
    {
      "cell_type": "code",
      "execution_count": 26,
      "metadata": {
        "id": "D3A6k30XmVxr"
      },
      "outputs": [],
      "source": [
        "def predict_sentiment(review, vocab, tokenizer, model):\n",
        "    \"\"\"classifie le texte dans la variable 'review' en positif (0) ou negatif (1) \"\"\"\n",
        "    # clean\n",
        "    tokens = clean_doc(review)\n",
        "    # filter by vocab\n",
        "    tokens = [w for w in tokens if w in vocab]\n",
        "    # convert to line\n",
        "    line = ' '.join(tokens)\n",
        "    # create the bag of words with the words used in the line\n",
        "    encoded = tokenizer.texts_to_matrix([line], mode='binary')\n",
        "    # prediction, output is a vector of (1x1) here (output of the neural network is a vector of 1 element)\n",
        "    output = model.predict(encoded, verbose=0)\n",
        "    estimation = output[0,0]\n",
        "    return estimation"
      ]
    },
    {
      "cell_type": "code",
      "execution_count": 27,
      "metadata": {
        "colab": {
          "base_uri": "https://localhost:8080/"
        },
        "id": "VslEKt3WmYuI",
        "outputId": "a6fff733-7cce-421c-87aa-97c1da4d4a0c"
      },
      "outputs": [
        {
          "output_type": "stream",
          "name": "stdout",
          "text": [
            "' Applications of Foundational Proof Certificates in theorem proving ' ------> est considere comme une thèse non IA\n",
            "0.99999714\n",
            "=-=-=-=-=-=-=-=-=-=-=-=\n",
            "' Hypergraphes multimedias diriges navigables, construction et exploitation ' ------> est considere comme une thèse non IA\n",
            "0.9974397\n"
          ]
        }
      ],
      "source": [
        "# test avec des thèses relevantes de l'IA\n",
        "text = \"Applications of Foundational Proof Certificates in theorem proving\"\n",
        "#text = \"Generation of communicative intentions for virtual agents in an intelligent virtual environment : application to virtual learning environment\"\n",
        "resultat = predict_sentiment(text, vocab, tokenizer, model)\n",
        "print('\\'',text,'\\' ------> est considere comme', 'une thèse IA' if resultat<0.5 else 'une thèse non IA')\n",
        "print(resultat)\n",
        "print(\"=-=-=-=-=-=-=-=-=-=-=-=\")\n",
        "\n",
        "\n",
        "# test avec des thèse non relevantes \n",
        "text = \"Hypergraphes multimedias diriges navigables, construction et exploitation\"\n",
        "#text = \"An evidential answer for the capacitated vehicle routing problem with uncertain demands\"\n",
        "resultat = predict_sentiment(text, vocab, tokenizer, model)\n",
        "print('\\'',text,'\\' ------> est considere comme', 'une thèse IA' if resultat<0.5 else 'une thèse non IA')\n",
        "print(resultat)\n",
        "\n"
      ]
    }
  ],
  "metadata": {
    "colab": {
      "collapsed_sections": [],
      "name": "TP_TextDetection.ipynb",
      "provenance": [],
      "include_colab_link": true
    },
    "kernelspec": {
      "display_name": "Python 3 (ipykernel)",
      "language": "python",
      "name": "python3"
    },
    "language_info": {
      "codemirror_mode": {
        "name": "ipython",
        "version": 3
      },
      "file_extension": ".py",
      "mimetype": "text/x-python",
      "name": "python",
      "nbconvert_exporter": "python",
      "pygments_lexer": "ipython3",
      "version": "3.9.12"
    }
  },
  "nbformat": 4,
  "nbformat_minor": 0
}